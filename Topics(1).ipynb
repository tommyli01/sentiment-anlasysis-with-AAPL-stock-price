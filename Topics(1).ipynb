{
 "cells": [
  {
   "cell_type": "code",
   "execution_count": 204,
   "id": "655beef0",
   "metadata": {},
   "outputs": [],
   "source": [
    "import pandas as pd\n",
    "import numpy as np\n",
    "from wordcloud import WordCloud,STOPWORDS\n",
    "from nltk.stem import WordNetLemmatizer\n",
    "from nltk import word_tokenize\n",
    "from sklearn.feature_extraction.text import CountVectorizer,ENGLISH_STOP_WORDS,TfidfVectorizer\n",
    "import matplotlib.pyplot as plt\n",
    "import gensim\n",
    "from gensim import corpora\n",
    "import regex as re"
   ]
  },
  {
   "cell_type": "code",
   "execution_count": 457,
   "id": "5d177692",
   "metadata": {},
   "outputs": [],
   "source": [
    "df=pd.read_csv('apleaa.csv')"
   ]
  },
  {
   "cell_type": "code",
   "execution_count": 458,
   "id": "9a41f033",
   "metadata": {},
   "outputs": [],
   "source": [
    "def clean_text(text):\n",
    "        # remove links\n",
    "        text = re.sub(r\"http\\S+\", \"\", text)\n",
    "        # remove special chars and numbers\n",
    "        text = re.sub(\"[^A-Za-z]+\",\" \", text)\n",
    "        #tokenize\n",
    "        text = word_tokenize(text.lower())\n",
    "        #turn to one form\n",
    "        stemmer = WordNetLemmatizer()\n",
    "        text = [stemmer.lemmatize(word) for word in text]\n",
    "        #clean stop words\n",
    "        stop_words = set(STOPWORDS)\n",
    "        stop_words.update(['!', ',' ,'.' ,'?' ,'-s' ,'-ly' ,'</s> ', 's','ha','wa','u','make','sure','give'])\n",
    "        text = [word for word in text if word.lower() not in stop_words]\n",
    "        #keep only tokens composed of letters\n",
    "        text=[word for word in text if word.isalpha()]\n",
    "        return text"
   ]
  },
  {
   "cell_type": "code",
   "execution_count": 459,
   "id": "ccaa1d2b",
   "metadata": {},
   "outputs": [],
   "source": [
    "#Clean dataset\n",
    "df['clean_review']=df['body'].apply(lambda x:clean_text(x))"
   ]
  },
  {
   "cell_type": "code",
   "execution_count": 461,
   "id": "8107c92e",
   "metadata": {
    "scrolled": true
   },
   "outputs": [
    {
     "name": "stdout",
     "output_type": "stream",
     "text": [
      "Topic: 0 Word: 0.114*\"robinhoodapp\" + 0.112*\"link\" + 0.111*\"use\" + 0.110*\"join\" + 0.110*\"ll\" + 0.099*\"f\" + 0.098*\"free\" + 0.075*\"stock\" + 0.006*\"aapl\" + 0.003*\"share\"\n",
      "Topic: 1 Word: 0.013*\"elliottwave\" + 0.008*\"sp\" + 0.007*\"story\" + 0.007*\"scoring\" + 0.007*\"watchlist\" + 0.007*\"highest\" + 0.006*\"wfc\" + 0.006*\"wave\" + 0.006*\"xom\" + 0.005*\"apple\"\n",
      "Topic: 2 Word: 0.013*\"apple\" + 0.008*\"iphone\" + 0.005*\"will\" + 0.005*\"cook\" + 0.005*\"tim\" + 0.005*\"t\" + 0.004*\"china\" + 0.004*\"new\" + 0.004*\"year\" + 0.004*\"company\"\n",
      "Topic: 3 Word: 0.014*\"stockmarket\" + 0.014*\"gld\" + 0.014*\"djia\" + 0.013*\"investing\" + 0.013*\"gold\" + 0.012*\"finance\" + 0.012*\"spy\" + 0.011*\"slv\" + 0.011*\"news\" + 0.011*\"dia\"\n",
      "Topic: 4 Word: 0.013*\"apple\" + 0.012*\"fb\" + 0.012*\"try\" + 0.011*\"g\" + 0.011*\"amzn\" + 0.010*\"tsla\" + 0.010*\"goog\" + 0.010*\"tech\" + 0.009*\"analyst\" + 0.009*\"high\"\n",
      "Topic: 5 Word: 0.006*\"call\" + 0.006*\"will\" + 0.006*\"today\" + 0.006*\"market\" + 0.006*\"t\" + 0.005*\"put\" + 0.005*\"spy\" + 0.005*\"day\" + 0.005*\"long\" + 0.005*\"now\"\n",
      "Topic: 6 Word: 0.013*\"fb\" + 0.011*\"amzn\" + 0.011*\"spy\" + 0.010*\"baba\" + 0.010*\"nvda\" + 0.010*\"msft\" + 0.010*\"nflx\" + 0.010*\"amd\" + 0.009*\"tsla\" + 0.008*\"option\"\n",
      "Topic: 7 Word: 0.020*\"apple\" + 0.012*\"iphone\" + 0.012*\"patent\" + 0.012*\"research\" + 0.012*\"ip\" + 0.011*\"tech\" + 0.008*\"imagine\" + 0.008*\"reading\" + 0.008*\"platform\" + 0.007*\"oil\"\n",
      "Topic: 8 Word: 0.013*\"opec\" + 0.012*\"usd\" + 0.011*\"lyg\" + 0.011*\"usoil\" + 0.011*\"ukoil\" + 0.011*\"barc\" + 0.011*\"xauusd\" + 0.010*\"c\" + 0.008*\"jpm\" + 0.008*\"sq\"\n",
      "Topic: 9 Word: 0.017*\"day\" + 0.013*\"room\" + 0.012*\"trading\" + 0.012*\"offering\" + 0.012*\"feed\" + 0.012*\"now\" + 0.012*\"trial\" + 0.011*\"analysis\" + 0.010*\"option\" + 0.010*\"team\"\n"
     ]
    }
   ],
   "source": [
    "# TF-IDF\n",
    "documents=list(df['clean_review'])\n",
    "mapping = corpora.Dictionary(documents)\n",
    "data = [mapping.doc2bow(word) for word in documents]\n",
    "tfidf = models.TfidfModel(data)\n",
    "corpus_tfidf = tfidf[data]\n",
    "#LDA \n",
    "lda_model_tfidf = gensim.models.LdaMulticore(corpus_tfidf, num_topics=10, id2word=mapping, passes=2, workers=4)\n",
    "for idx, topic in lda_model_tfidf.print_topics(-1):\n",
    "    print('Topic: {} Word: {}'.format(idx, topic))"
   ]
  }
 ],
 "metadata": {
  "kernelspec": {
   "display_name": "Python 3 (ipykernel)",
   "language": "python",
   "name": "python3"
  },
  "language_info": {
   "codemirror_mode": {
    "name": "ipython",
    "version": 3
   },
   "file_extension": ".py",
   "mimetype": "text/x-python",
   "name": "python",
   "nbconvert_exporter": "python",
   "pygments_lexer": "ipython3",
   "version": "3.9.7"
  }
 },
 "nbformat": 4,
 "nbformat_minor": 5
}
